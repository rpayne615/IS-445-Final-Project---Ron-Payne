{
 "cells": [
  {
   "cell_type": "markdown",
   "metadata": {},
   "source": [
    "## IS 455 Fall Semester - Final Project Part 2 - Ron Payne"
   ]
  },
  {
   "cell_type": "markdown",
   "metadata": {},
   "source": [
    "## Assignment\n",
    "Using your dataset from Part 1:\n",
    "\n",
    "Submit code and a writeup (either separate or within the notebook):\n",
    "\n",
    "Code (70 pts):\n",
    "* Jupyter notebook with an interactive dashboard that helps an expert explore your dataset thoroughly.\n",
    "* There should be a \"dashboard\" type aspect to this - i.e. a linked view exploring your dataset in an interactive way\n",
    "* Do not delete any cells, just comment them out. Show your work.\n",
    "\n",
    "Prose (30 pts):\n",
    "* One paragraph explaining how to use the dashboard you created, to help someone who is not an expert understand your dataset.\n",
    "* A list of 1 or more contextual datasets you have identified, links to where they reside, and a sentence about why they might be useful in telling the final story. \n",
    "    \n",
    "---"
   ]
  },
  {
   "cell_type": "markdown",
   "metadata": {},
   "source": [
    "## My Content\n",
    "XSEDE is an NSF funded project that provides free access to selected academic advanced computing resources for any academic researcher in the U.S. Every quarter, allocation requests are collected, peer-reviewed and awarded. Each allocation award is categorized based on the NSF Field of Science Directorates, including sub-categorations of Divisions within each directorate.   \n",
    "\n",
    "For my dashboard, I would like to provide the following a heatmap of the XSEDE the quantity of allocations by field of science directorate by year. Upon selecting a heatmap cell, a bar chart under the heatmap updates showing, for the selected year, the quantity of allocations for the divisions of the directorate selected.\n",
    "\n",
    "For example, if the user selects the heatmap that intersects at the year of 2010 and the field of science directorate named Geosciences, the cell will highlight and the bar chart under the heatmap will dynamically updated to show the number of allocations awarded to research projects in the geosciences directorate grouped by the divisions within Geosciences, which are: Atmosperic Sciences, Earth Sciences, and Ocean Sciences.\n",
    "\n",
    "There are many XSEDE links that would help with the final story. \n",
    "* information about what XSEDE is can be found on the [XSEDE webpage](https://www.xsede.org/)\n",
    "* information about getting an allocation can be found on the [XSEDE getting started user webpage](https://www.xsede.org/for-users/getting-started)\n",
    "* information about XSEDE resources (including statistics of usage) is located on the [XSEDE User Portal](https://portal.xsede.org/)"
   ]
  },
  {
   "cell_type": "markdown",
   "metadata": {},
   "source": [
    "## Coding the Dashbard"
   ]
  },
  {
   "cell_type": "markdown",
   "metadata": {},
   "source": [
    "Loading libraries and data:"
   ]
  },
  {
   "cell_type": "code",
   "execution_count": 2,
   "metadata": {},
   "outputs": [],
   "source": [
    "%matplotlib inline\n",
    "import cartopy\n",
    "import pandas as pd\n",
    "import matplotlib.pyplot as plt\n",
    "import ipyleaflet\n",
    "import numpy as np\n",
    "import bqplot\n",
    "import ipywidgets\n",
    "import contextily as ctx"
   ]
  },
  {
   "cell_type": "code",
   "execution_count": 3,
   "metadata": {},
   "outputs": [],
   "source": [
    "awards = pd.read_csv('https://github.com/rpayne615/rpayne615.github.io/raw/master/XSEDE_allocation_award_history_2004-2019.zip')"
   ]
  },
  {
   "cell_type": "markdown",
   "metadata": {},
   "source": [
    "Checking the data: "
   ]
  },
  {
   "cell_type": "code",
   "execution_count": 4,
   "metadata": {
    "scrolled": true
   },
   "outputs": [
    {
     "name": "stdout",
     "output_type": "stream",
     "text": [
      "<class 'pandas.core.frame.DataFrame'>\n",
      "RangeIndex: 19607 entries, 0 to 19606\n",
      "Data columns (total 15 columns):\n",
      " #   Column                        Non-Null Count  Dtype \n",
      "---  ------                        --------------  ----- \n",
      " 0   Proposal_Number               19469 non-null  object\n",
      " 1   Grant_Number                  19607 non-null  object\n",
      " 2   PI_id                         19607 non-null  object\n",
      " 3   PI_Last_Name                  19607 non-null  object\n",
      " 4   PI_First_Name                 19607 non-null  object\n",
      " 5   Organization                  19607 non-null  object\n",
      " 6   Field_of_Science              19607 non-null  object\n",
      " 7   Field_of_Science_Division     19607 non-null  object\n",
      " 8   Field_of_Science_Directorate  19607 non-null  object\n",
      " 9   Project_Type                  15950 non-null  object\n",
      " 10  Transaction_Type              19607 non-null  object\n",
      " 11  Project_Title                 19607 non-null  object\n",
      " 12  Start_Date                    19607 non-null  object\n",
      " 13  End_Date                      19607 non-null  object\n",
      " 14  Abstract                      19446 non-null  object\n",
      "dtypes: object(15)\n",
      "memory usage: 2.2+ MB\n"
     ]
    }
   ],
   "source": [
    "awards.info()"
   ]
  },
  {
   "cell_type": "code",
   "execution_count": 5,
   "metadata": {},
   "outputs": [
    {
     "ename": "NameError",
     "evalue": "name 'usage' is not defined",
     "output_type": "error",
     "traceback": [
      "\u001b[1;31m---------------------------------------------------------------------------\u001b[0m",
      "\u001b[1;31mNameError\u001b[0m                                 Traceback (most recent call last)",
      "\u001b[1;32m<ipython-input-5-55eb825a9cfa>\u001b[0m in \u001b[0;36m<module>\u001b[1;34m\u001b[0m\n\u001b[1;32m----> 1\u001b[1;33m \u001b[0musage\u001b[0m\u001b[1;33m.\u001b[0m\u001b[0minfo\u001b[0m\u001b[1;33m(\u001b[0m\u001b[1;33m)\u001b[0m\u001b[1;33m\u001b[0m\u001b[1;33m\u001b[0m\u001b[0m\n\u001b[0m",
      "\u001b[1;31mNameError\u001b[0m: name 'usage' is not defined"
     ]
    }
   ],
   "source": [
    "usage.info()"
   ]
  },
  {
   "cell_type": "code",
   "execution_count": null,
   "metadata": {
    "scrolled": true
   },
   "outputs": [],
   "source": [
    "awards"
   ]
  },
  {
   "cell_type": "markdown",
   "metadata": {},
   "source": [
    "Adding a column to the 'awards' dataframe for the year the award started:"
   ]
  },
  {
   "cell_type": "code",
   "execution_count": null,
   "metadata": {},
   "outputs": [],
   "source": [
    "awards['Year'] = pd.DatetimeIndex(awards['Start_Date']).year"
   ]
  },
  {
   "cell_type": "markdown",
   "metadata": {},
   "source": [
    "Making sure I can get the ipywidget working:"
   ]
  },
  {
   "cell_type": "code",
   "execution_count": null,
   "metadata": {
    "scrolled": true
   },
   "outputs": [],
   "source": [
    "@ipywidgets.interact(filter=['Field_of_Science_Directorate', 'Project_Type', 'Year'])\n",
    "def chart(filter):\n",
    "    awards.pivot_table(values='Grant_Number', index=filter, columns='Transaction_Type', aggfunc='count').plot.barh(stacked=True)\n",
    "    "
   ]
  },
  {
   "cell_type": "markdown",
   "metadata": {},
   "source": [
    "coming back to add create the function for updating the widget label based on the heatmap cell selection:"
   ]
  },
  {
   "cell_type": "code",
   "execution_count": null,
   "metadata": {},
   "outputs": [],
   "source": [
    "selectedLabel = ipywidgets.Label(layout=ipywidgets.Layout(display=\"flex\",justify_content=\"center\", width=\"100%\"))\n",
    "def on_selected(change):\n",
    "    if len(change['owner'].selected) == 1:\n",
    "        i,j = change['owner'].selected[0]\n",
    "        v = heatmap_data.iloc[i,j]\n",
    "        selectedLabel.value = str(v) + ' allocations for ' + str(fos[i]) + ' in ' + str(year[j])"
   ]
  },
  {
   "cell_type": "markdown",
   "metadata": {},
   "source": [
    "Making the heatmap for the main component of the dashboard along with the widget label."
   ]
  },
  {
   "cell_type": "code",
   "execution_count": null,
   "metadata": {
    "scrolled": true
   },
   "outputs": [],
   "source": [
    "# 1. Data\n",
    "heatmap_data = awards.pivot_table(values='Grant_Number', \n",
    "                                  index='Field_of_Science_Directorate', \n",
    "                                  columns='Year', \n",
    "                                  aggfunc='count')\n",
    "\n",
    "fos = heatmap_data.index\n",
    "year = heatmap_data.columns\n",
    "\n",
    "# 2. Scales\n",
    "col_sc = bqplot.ColorScale(scheme = \"Reds\")\n",
    "x_sc = bqplot.OrdinalScale()\n",
    "y_sc = bqplot.OrdinalScale()\n",
    "\n",
    "# 3. Axis\n",
    "c_ax = bqplot.ColorAxis(scale = col_sc, \n",
    "                        orientation = 'vertical', \n",
    "                        side = 'right')\n",
    "x_ax = bqplot.Axis(scale = x_sc, label='Years')\n",
    "y_ax = bqplot.Axis(scale = y_sc, orientation = 'vertical', label='FOS')\n",
    "\n",
    "# 4. Marks\n",
    "heat_map = bqplot.GridHeatMap(color = heatmap_data,\n",
    "                              scales = {'color': col_sc,\n",
    "                                        'row': y_sc,\n",
    "                                        'column': x_sc},\n",
    "                              row = heatmap_data.index,\n",
    "                              column = heatmap_data.columns,\n",
    "                              interactions = {'click': 'select'}, # make interactive on click of each box\n",
    "                              anchor_style = {'fill':'blue'}, # to make our selection blue\n",
    "                              selected_style = {'opacity': 1.0}, # make 100% opaque if box is selected\n",
    "                              unselected_style = {'opacity': 0.8}) # make a little see-through if not\n",
    "\n",
    "# 5. Interactions (some in Marks as well)\n",
    "heat_map.observe(on_selected, 'selected')\n",
    "\n",
    "\n",
    "# Put it all together\n",
    "hm_fig = bqplot.Figure(marks = [heat_map], axes = [c_ax, y_ax, x_ax], \n",
    "                       fig_margin={'top':30, 'bottom':30, 'left':300, 'right':60},\n",
    "                       title=\"Heatmap of XSEDE Allocations from 2003 to 2019\")\n",
    "xsedeDashboard = ipywidgets.VBox([selectedLabel, hm_fig])\n",
    "xsedeDashboard"
   ]
  },
  {
   "cell_type": "code",
   "execution_count": null,
   "metadata": {},
   "outputs": [],
   "source": [
    "heatmap_data.columns"
   ]
  },
  {
   "cell_type": "code",
   "execution_count": null,
   "metadata": {},
   "outputs": [],
   "source": [
    "heatmap_data.index"
   ]
  },
  {
   "cell_type": "markdown",
   "metadata": {},
   "source": [
    "Now that the heatmap is working, I need to start on the secondary dependent plot. I am starting out with a horizontal bar chart of the secondary field of science (division) and the year. This is represents the unique variables in the heatmap cells."
   ]
  },
  {
   "cell_type": "code",
   "execution_count": null,
   "metadata": {
    "scrolled": true
   },
   "outputs": [],
   "source": [
    "bc_data = awards.loc[(awards['Year'] == 2016) & (awards['Field_of_Science_Directorate'] == 'Mathematical and Physical Sciences')]"
   ]
  },
  {
   "cell_type": "code",
   "execution_count": null,
   "metadata": {},
   "outputs": [],
   "source": [
    "bc_data.shape"
   ]
  },
  {
   "cell_type": "code",
   "execution_count": null,
   "metadata": {},
   "outputs": [],
   "source": [
    "bc_data"
   ]
  },
  {
   "cell_type": "markdown",
   "metadata": {},
   "source": [
    "Now for a quick test plot:"
   ]
  },
  {
   "cell_type": "code",
   "execution_count": null,
   "metadata": {},
   "outputs": [],
   "source": [
    "bc_data.pivot_table(values='Grant_Number', index='Field_of_Science_Division', columns='Transaction_Type', aggfunc='count').plot.barh(stacked=True)"
   ]
  },
  {
   "cell_type": "markdown",
   "metadata": {},
   "source": [
    "Looks good but I realized that I should group the date to make the bqplot or matplotlib plot."
   ]
  },
  {
   "cell_type": "code",
   "execution_count": null,
   "metadata": {},
   "outputs": [],
   "source": [
    "bc_data_grp = bc_data.groupby('Field_of_Science_Division')['Grant_Number'].count()"
   ]
  },
  {
   "cell_type": "code",
   "execution_count": null,
   "metadata": {},
   "outputs": [],
   "source": [
    "bc_data_grp"
   ]
  },
  {
   "cell_type": "code",
   "execution_count": null,
   "metadata": {},
   "outputs": [],
   "source": [
    "bc_data_grp.index"
   ]
  },
  {
   "cell_type": "markdown",
   "metadata": {},
   "source": [
    "Let's try a bqplot bar chart."
   ]
  },
  {
   "cell_type": "code",
   "execution_count": null,
   "metadata": {
    "scrolled": true
   },
   "outputs": [],
   "source": [
    "# 2 Scales:\n",
    "x_scb = bqplot.LinearScale()\n",
    "y_scb = bqplot.OrdinalScale() \n",
    "\n",
    "# 3 Axis: \n",
    "x_axb = bqplot.Axis(scale = x_scb, label = 'Allocations')\n",
    "y_axb = bqplot.Axis(scale = y_scb, \n",
    "                    orientation = 'vertical', \n",
    "                    label='FOS Division')\n",
    "\n",
    "# 4 Marks:\n",
    "bc = bqplot.Bars(x=bc_data_grp, y=bc_data_grp.index,\n",
    "             scales={'x': x_scb, 'y': y_scb}, orientation = 'horizontal')\n",
    "\n",
    "# 5 No Linking \n",
    "\n",
    "# Plot Barchart:\n",
    "fig_bar = bqplot.Figure(marks = [bc], axes = [x_axb, y_axb])\n",
    "fig_bar"
   ]
  },
  {
   "cell_type": "markdown",
   "metadata": {},
   "source": [
    "Well, I can't get this to work so let's try a simple Matplotlib plot."
   ]
  },
  {
   "cell_type": "code",
   "execution_count": null,
   "metadata": {},
   "outputs": [],
   "source": [
    "plt.barh(bc_data_grp.index, bc_data_grp)\n",
    "plt.xlabel(\"Allocations\")\n",
    "plt.ylabel('Field of Science Division')\n",
    "plt.title('Allocations for FOS_div in year')"
   ]
  },
  {
   "cell_type": "markdown",
   "metadata": {},
   "source": [
    "Much better. Now I need to make a funtion that can plot based on the field of science directorate and year that is passed into it."
   ]
  },
  {
   "cell_type": "code",
   "execution_count": null,
   "metadata": {},
   "outputs": [],
   "source": [
    "def bar_chart(fos_dir, year):\n",
    "    bc_data = awards.loc[(awards['Year'] == year) & (awards['Field_of_Science_Directorate'] == fos_dir)]\n",
    "    bc_data_grp = bc_data.groupby('Field_of_Science_Division')['Grant_Number'].count()\n",
    "    \n",
    "    plt.barh(bc_data_grp.index, bc_data_grp)\n",
    "    plt.xlabel(\"Allocations\")\n",
    "    plt.ylabel('Field of Science Division')\n",
    "    plt.title('Allocations for ' + fos_dir + ' in ' + str(year))\n"
   ]
  },
  {
   "cell_type": "code",
   "execution_count": null,
   "metadata": {
    "scrolled": true
   },
   "outputs": [],
   "source": [
    "yr = 2016\n",
    "dir = 'Engineering'\n",
    "bar_chart(dir, yr)"
   ]
  },
  {
   "cell_type": "markdown",
   "metadata": {},
   "source": [
    "Cool, this seems to work. Let's see if I can update the 'on_selected' function to draw the bar chart."
   ]
  },
  {
   "cell_type": "code",
   "execution_count": null,
   "metadata": {},
   "outputs": [],
   "source": [
    "selectedLabel = ipywidgets.Label(layout=ipywidgets.Layout(display=\"flex\",justify_content=\"center\", width=\"100%\"))\n",
    "def on_selected(change):\n",
    "    if len(change['owner'].selected) == 1:\n",
    "        i,j = change['owner'].selected[0]\n",
    "        v = heatmap_data.iloc[i,j]\n",
    "        selectedLabel.value = str(v) + ' allocations for ' + str(fos[i]) + ' in ' + str(year[j])\n",
    "    bar_chart(fos[i], year[j])"
   ]
  },
  {
   "cell_type": "code",
   "execution_count": null,
   "metadata": {
    "scrolled": true
   },
   "outputs": [],
   "source": [
    "# 1. Data\n",
    "heatmap_data = awards.pivot_table(values='Grant_Number', \n",
    "                                  index='Field_of_Science_Directorate', \n",
    "                                  columns='Year', \n",
    "                                  aggfunc='count')\n",
    "\n",
    "fos = heatmap_data.index\n",
    "year = heatmap_data.columns\n",
    "\n",
    "# 2. Scales\n",
    "col_sc = bqplot.ColorScale(scheme = \"Reds\")\n",
    "x_sc = bqplot.OrdinalScale()\n",
    "y_sc = bqplot.OrdinalScale()\n",
    "\n",
    "# 3. Axis\n",
    "c_ax = bqplot.ColorAxis(scale = col_sc, \n",
    "                        orientation = 'vertical', \n",
    "                        side = 'right')\n",
    "x_ax = bqplot.Axis(scale = x_sc, label='Years')\n",
    "y_ax = bqplot.Axis(scale = y_sc, orientation = 'vertical', label='FOS')\n",
    "\n",
    "# 4. Marks\n",
    "heat_map = bqplot.GridHeatMap(color = heatmap_data,\n",
    "                              scales = {'color': col_sc,\n",
    "                                        'row': y_sc,\n",
    "                                        'column': x_sc},\n",
    "                              row = heatmap_data.index,\n",
    "                              column = heatmap_data.columns,\n",
    "                              interactions = {'click': 'select'}, # make interactive on click of each box\n",
    "                              anchor_style = {'fill':'blue'}, # to make our selection blue\n",
    "                              selected_style = {'opacity': 1.0}, # make 100% opaque if box is selected\n",
    "                              unselected_style = {'opacity': 0.8}) # make a little see-through if not\n",
    "\n",
    "# 5. Interactions (plus what is in Marks)\n",
    "heat_map.observe(on_selected, 'selected')\n",
    "\n",
    "# Put it all together\n",
    "hm_fig = bqplot.Figure(marks = [heat_map], axes = [c_ax, y_ax, x_ax], \n",
    "                       fig_margin={'top':30, 'bottom':30, 'left':300, 'right':60},\n",
    "                       title=\"Heatmap of XSEDE Allocations from 2003 to 2019\")\n",
    "\n",
    "xsedeDashboard = ipywidgets.VBox([selectedLabel, hm_fig])\n",
    "xsedeDashboard"
   ]
  },
  {
   "cell_type": "markdown",
   "metadata": {},
   "source": [
    "Finally got that to work, but it doesn't update or write over the previous bar chart, it just plots a new one below it."
   ]
  },
  {
   "cell_type": "markdown",
   "metadata": {},
   "source": [
    "With help (thanks Prof. Naiman!!), the bqplot bar chart is now working, just not with the horizontal orientation. Looks like I found a bug in bqplot! \n",
    "\n",
    "So, I can now put it all together with the auto-update of the bar chart with the selction of a heatmap cell. "
   ]
  },
  {
   "cell_type": "code",
   "execution_count": null,
   "metadata": {},
   "outputs": [],
   "source": [
    "selectedLabel = ipywidgets.Label(layout=ipywidgets.Layout(display=\"flex\",justify_content=\"center\", width=\"100%\"))\n",
    "def on_selected(change):\n",
    "    if len(change['owner'].selected) == 1:\n",
    "        i,j = change['owner'].selected[0]\n",
    "        v = heatmap_data.iloc[i,j]\n",
    "        selectedLabel.value = str(v) + ' allocations for ' + str(fos[i]) + ' in ' + str(year[j])\n",
    "    \n",
    "    bc_data = awards.loc[(awards['Year'] == year[j]) & (awards['Field_of_Science_Directorate'] == fos[i])]\n",
    "    bc_data_grp = bc_data.groupby('Field_of_Science_Division')['Grant_Number'].count()\n",
    "    bc.x = np.array(bc_data_grp.index)\n",
    "    bc.y = bc_data_grp.values"
   ]
  },
  {
   "cell_type": "code",
   "execution_count": null,
   "metadata": {},
   "outputs": [],
   "source": [
    "# 1. Data\n",
    "heatmap_data = awards.pivot_table(values='Grant_Number', \n",
    "                                  index='Field_of_Science_Directorate', \n",
    "                                  columns='Year', \n",
    "                                  aggfunc='count')\n",
    "\n",
    "fos = heatmap_data.index\n",
    "year = heatmap_data.columns\n",
    "\n",
    "# 2. Scales\n",
    "col_sc = bqplot.ColorScale(scheme = \"Reds\")\n",
    "x_sc = bqplot.OrdinalScale()\n",
    "y_sc = bqplot.OrdinalScale()\n",
    "\n",
    "# 3. Axis\n",
    "c_ax = bqplot.ColorAxis(scale = col_sc, \n",
    "                        orientation = 'vertical', \n",
    "                        side = 'right')\n",
    "x_ax = bqplot.Axis(scale = x_sc, label='Years')\n",
    "y_ax = bqplot.Axis(scale = y_sc, orientation = 'vertical', label='FOS')\n",
    "\n",
    "# 4. Marks\n",
    "heat_map = bqplot.GridHeatMap(color = heatmap_data,\n",
    "                              scales = {'color': col_sc,\n",
    "                                        'row': y_sc,\n",
    "                                        'column': x_sc},\n",
    "                              row = heatmap_data.index,\n",
    "                              column = heatmap_data.columns,\n",
    "                              interactions = {'click': 'select'}, # make interactive on click of each box\n",
    "                              anchor_style = {'fill':'blue'}, # to make our selection blue\n",
    "                              selected_style = {'opacity': 1.0}, # make 100% opaque if box is selected\n",
    "                              unselected_style = {'opacity': 0.8}) # make a little see-through if not\n",
    "\n",
    "# 5. Interactions (plus what is in Marks)\n",
    "heat_map.observe(on_selected, 'selected')\n",
    "\n",
    "# Put it all together\n",
    "hm_fig = bqplot.Figure(marks = [heat_map], axes = [c_ax, y_ax, x_ax], \n",
    "                       fig_margin={'top':30, 'bottom':30, 'left':300, 'right':60},\n",
    "                       title=\"Heatmap of XSEDE Allocations from 2003 to 2019\")"
   ]
  },
  {
   "cell_type": "code",
   "execution_count": null,
   "metadata": {},
   "outputs": [],
   "source": [
    "# Bar Chart Creation\n",
    "\n",
    "# 1. Data\n",
    "bc_data = awards.loc[(awards['Year'] == 2016) & (awards['Field_of_Science_Directorate'] == 'Social, Behavioral, and Economic Sciences')]\n",
    "bc_data_grp = bc_data.groupby('Field_of_Science_Division')['Grant_Number'].count()\n",
    "\n",
    "# 2 Scales:\n",
    "x_scb = bqplot.OrdinalScale() \n",
    "y_scb = bqplot.LinearScale()\n",
    "\n",
    "# 3 Axis: \n",
    "x_axb = bqplot.Axis(scale = x_scb, label = 'FOS Division')\n",
    "y_axb = bqplot.Axis(scale = y_scb, orientation = 'vertical', label='Allocations')\n",
    "\n",
    "# 4 Marks:\n",
    "bc = bqplot.Bars(x = np.array(bc_data_grp.index), y = bc_data_grp.values, scales = {'x': x_scb, 'y': y_scb})\n",
    "\n",
    "# Make the Bar Chart figure:\n",
    "bc_fig = bqplot.Figure(marks = [bc], axes = [x_axb, y_axb], title = ('Allocations for selected cell'))\n"
   ]
  },
  {
   "cell_type": "code",
   "execution_count": null,
   "metadata": {
    "scrolled": true
   },
   "outputs": [],
   "source": [
    "xsedeDashboard = ipywidgets.VBox([selectedLabel, hm_fig, bc_fig])\n",
    "xsedeDashboard"
   ]
  },
  {
   "cell_type": "markdown",
   "metadata": {},
   "source": [
    "Looks like this is working great with the exception of a few things:\n",
    "1. I need to figure out how to dynamically update the bar chart.\n",
    "2. Selecting a heatmap cell that represents no allocations breaks the bar chart. The dynamic label shows 'nan' but the bar chart errors out.\n",
    "3. general cleanup on the bar chart x-axis tick labels (overlapping)\n",
    "\n",
    "I am out of time so I will be working on this after I submit this version. I will make sure the updates are in part 3 of the project."
   ]
  }
 ],
 "metadata": {
  "kernelspec": {
   "display_name": "Python 3",
   "language": "python",
   "name": "python3"
  },
  "language_info": {
   "codemirror_mode": {
    "name": "ipython",
    "version": 3
   },
   "file_extension": ".py",
   "mimetype": "text/x-python",
   "name": "python",
   "nbconvert_exporter": "python",
   "pygments_lexer": "ipython3",
   "version": "3.7.8"
  }
 },
 "nbformat": 4,
 "nbformat_minor": 4
}
